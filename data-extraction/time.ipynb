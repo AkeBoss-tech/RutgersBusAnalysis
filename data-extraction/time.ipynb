{
 "cells": [
  {
   "cell_type": "code",
   "execution_count": 22,
   "metadata": {},
   "outputs": [
    {
     "data": {
      "text/html": [
       "<div>\n",
       "<style scoped>\n",
       "    .dataframe tbody tr th:only-of-type {\n",
       "        vertical-align: middle;\n",
       "    }\n",
       "\n",
       "    .dataframe tbody tr th {\n",
       "        vertical-align: top;\n",
       "    }\n",
       "\n",
       "    .dataframe thead th {\n",
       "        text-align: right;\n",
       "    }\n",
       "</style>\n",
       "<table border=\"1\" class=\"dataframe\">\n",
       "  <thead>\n",
       "    <tr style=\"text-align: right;\">\n",
       "      <th></th>\n",
       "      <th>id</th>\n",
       "      <th>name</th>\n",
       "      <th>type</th>\n",
       "      <th>calculatedCourse</th>\n",
       "      <th>routeName</th>\n",
       "      <th>created</th>\n",
       "      <th>longitude</th>\n",
       "      <th>latitude</th>\n",
       "      <th>paxLoad</th>\n",
       "      <th>totalCap</th>\n",
       "      <th>more</th>\n",
       "      <th>deviceId</th>\n",
       "      <th>routeBlockId</th>\n",
       "      <th>timestamp</th>\n",
       "      <th>load</th>\n",
       "      <th>stop</th>\n",
       "    </tr>\n",
       "  </thead>\n",
       "  <tbody>\n",
       "    <tr>\n",
       "      <th>0</th>\n",
       "      <td>4855</td>\n",
       "      <td>4131</td>\n",
       "      <td>Transit Bus</td>\n",
       "      <td>212.735226</td>\n",
       "      <td>LX Route</td>\n",
       "      <td>02:23 PM</td>\n",
       "      <td>-74.433571</td>\n",
       "      <td>40.519749</td>\n",
       "      <td>0</td>\n",
       "      <td>67</td>\n",
       "      <td>101</td>\n",
       "      <td>402213</td>\n",
       "      <td>111417</td>\n",
       "      <td>2024-10-31 14:24:00</td>\n",
       "      <td>0.000000</td>\n",
       "      <td>Quads</td>\n",
       "    </tr>\n",
       "    <tr>\n",
       "      <th>1</th>\n",
       "      <td>4859</td>\n",
       "      <td>4177</td>\n",
       "      <td>Transit Bus</td>\n",
       "      <td>128.232575</td>\n",
       "      <td>LX Route</td>\n",
       "      <td>02:23 PM</td>\n",
       "      <td>-74.436304</td>\n",
       "      <td>40.524327</td>\n",
       "      <td>27</td>\n",
       "      <td>67</td>\n",
       "      <td>102</td>\n",
       "      <td>402325</td>\n",
       "      <td>111417</td>\n",
       "      <td>2024-10-31 14:24:00</td>\n",
       "      <td>0.402985</td>\n",
       "      <td>Livingston Student Center</td>\n",
       "    </tr>\n",
       "    <tr>\n",
       "      <th>2</th>\n",
       "      <td>4873</td>\n",
       "      <td>4191</td>\n",
       "      <td>Transit Bus</td>\n",
       "      <td>240.802514</td>\n",
       "      <td>B Route</td>\n",
       "      <td>02:23 PM</td>\n",
       "      <td>-74.457712</td>\n",
       "      <td>40.523463</td>\n",
       "      <td>8</td>\n",
       "      <td>67</td>\n",
       "      <td>101</td>\n",
       "      <td>402329</td>\n",
       "      <td>113278</td>\n",
       "      <td>2024-10-31 14:24:00</td>\n",
       "      <td>0.119403</td>\n",
       "      <td>NaN</td>\n",
       "    </tr>\n",
       "    <tr>\n",
       "      <th>3</th>\n",
       "      <td>4876</td>\n",
       "      <td>4194</td>\n",
       "      <td>Transit Bus</td>\n",
       "      <td>299.246496</td>\n",
       "      <td>B Route</td>\n",
       "      <td>02:23 PM</td>\n",
       "      <td>-74.438946</td>\n",
       "      <td>40.521624</td>\n",
       "      <td>4</td>\n",
       "      <td>67</td>\n",
       "      <td>102</td>\n",
       "      <td>402330</td>\n",
       "      <td>113250</td>\n",
       "      <td>2024-10-31 14:24:00</td>\n",
       "      <td>0.059701</td>\n",
       "      <td>NaN</td>\n",
       "    </tr>\n",
       "    <tr>\n",
       "      <th>4</th>\n",
       "      <td>17624</td>\n",
       "      <td>4002</td>\n",
       "      <td>Heavy Duty Transit LF</td>\n",
       "      <td>226.694476</td>\n",
       "      <td>REXB Route</td>\n",
       "      <td>02:23 PM</td>\n",
       "      <td>-74.438830</td>\n",
       "      <td>40.483538</td>\n",
       "      <td>2</td>\n",
       "      <td>68</td>\n",
       "      <td>102</td>\n",
       "      <td>402643</td>\n",
       "      <td>112511</td>\n",
       "      <td>2024-10-31 14:24:00</td>\n",
       "      <td>0.029412</td>\n",
       "      <td>NaN</td>\n",
       "    </tr>\n",
       "  </tbody>\n",
       "</table>\n",
       "</div>"
      ],
      "text/plain": [
       "      id  name                   type  calculatedCourse   routeName   created  \\\n",
       "0   4855  4131            Transit Bus        212.735226    LX Route  02:23 PM   \n",
       "1   4859  4177            Transit Bus        128.232575    LX Route  02:23 PM   \n",
       "2   4873  4191            Transit Bus        240.802514     B Route  02:23 PM   \n",
       "3   4876  4194            Transit Bus        299.246496     B Route  02:23 PM   \n",
       "4  17624  4002  Heavy Duty Transit LF        226.694476  REXB Route  02:23 PM   \n",
       "\n",
       "   longitude   latitude  paxLoad  totalCap  more  deviceId  routeBlockId  \\\n",
       "0 -74.433571  40.519749        0        67   101    402213        111417   \n",
       "1 -74.436304  40.524327       27        67   102    402325        111417   \n",
       "2 -74.457712  40.523463        8        67   101    402329        113278   \n",
       "3 -74.438946  40.521624        4        67   102    402330        113250   \n",
       "4 -74.438830  40.483538        2        68   102    402643        112511   \n",
       "\n",
       "            timestamp      load                       stop  \n",
       "0 2024-10-31 14:24:00  0.000000                      Quads  \n",
       "1 2024-10-31 14:24:00  0.402985  Livingston Student Center  \n",
       "2 2024-10-31 14:24:00  0.119403                        NaN  \n",
       "3 2024-10-31 14:24:00  0.059701                        NaN  \n",
       "4 2024-10-31 14:24:00  0.029412                        NaN  "
      ]
     },
     "execution_count": 22,
     "metadata": {},
     "output_type": "execute_result"
    }
   ],
   "source": [
    "import pandas as pd\n",
    "import seaborn as sns\n",
    "import matplotlib.pyplot as plt\n",
    "import folium\n",
    "from folium.plugins import MarkerCluster\n",
    "\n",
    "data = pd.read_csv('cloud-data/bus_data_modified.csv')\n",
    "# convert timestamp to datetime\n",
    "data['timestamp'] = pd.to_datetime(data['timestamp'])\n",
    "# shift all timestamps 6 hrs back\n",
    "data['timestamp'] = data['timestamp'] - pd.Timedelta(hours=4)\n",
    "# only use the latitude and longitude columns between certain values\n",
    "data = data[(data['latitude'] > 40.4) & (data['latitude'] < 40.53)]\n",
    "data = data[(data['longitude'] > -74.5) & (data['longitude'] < -74.3)]\n",
    "data.head()"
   ]
  },
  {
   "cell_type": "code",
   "execution_count": 27,
   "metadata": {},
   "outputs": [],
   "source": [
    "def get_home_stop(stops):\n",
    "    for stop in stops:\n",
    "        if type(stop) == float: continue\n",
    "        if 'student center' in stop.lower():\n",
    "            return stop\n",
    "    \n",
    "    if type(stops[0]) == float: return stops[1]\n",
    "    return stops[0]"
   ]
  },
  {
   "cell_type": "code",
   "execution_count": 24,
   "metadata": {},
   "outputs": [
    {
     "data": {
      "text/plain": [
       "'B Route'"
      ]
     },
     "execution_count": 24,
     "metadata": {},
     "output_type": "execute_result"
    }
   ],
   "source": [
    "route = data['routeName'].unique()[1]\n",
    "route"
   ]
  },
  {
   "cell_type": "code",
   "execution_count": 25,
   "metadata": {},
   "outputs": [],
   "source": [
    "# create a data frame with unique timestamps as index and columns with the number of buses on a given route at the stop\n",
    "data_route = data[data['routeName'] == route]\n",
    "\n",
    "stops = data_route['stop'].unique()\n",
    "\n",
    "timestamps = data_route['timestamp'].unique()\n"
   ]
  },
  {
   "cell_type": "code",
   "execution_count": 31,
   "metadata": {},
   "outputs": [],
   "source": [
    "\n",
    "def create_csv_route(route):\n",
    "    # create a data frame with unique timestamps as index and columns with the number of buses on a given route at the stop\n",
    "    data_route = data[data['routeName'] == route]\n",
    "\n",
    "    stops = data_route['stop'].unique()\n",
    "\n",
    "    timestamps = data_route['timestamp'].unique()\n",
    "\n",
    "    # convert timestamps to dataframe with stops as columns\n",
    "    df = pd.DataFrame(index=timestamps, columns=stops)\n",
    "    df.head()\n",
    "\n",
    "    # Initialize the resulting DataFrame\n",
    "    result_columns = ['bus_id', 'timestamp', 'load', 'stop', 'time_on_route', 'time_waiting', 'time_to_complete']\n",
    "    result_data = []\n",
    "\n",
    "    main_stop = get_home_stop(stops)\n",
    "\n",
    "    # Process each bus on the route\n",
    "    for bus_id in data_route['id'].unique():\n",
    "        data_bus = data_route[data_route['id'] == bus_id].copy()\n",
    "\n",
    "        if len(data_bus) <= 20: # Skip buses with less than 20 records\n",
    "            continue\n",
    "\n",
    "        # Initialize columns for time calculations\n",
    "        data_bus['time_to_complete'] = 0\n",
    "        data_bus['time_waiting'] = 0\n",
    "        data_bus['time_on_route'] = 0\n",
    "\n",
    "        for i in range(len(data_bus) - 2, 0, -1):\n",
    "            time_diff = (data_bus['timestamp'].iloc[i+1] - data_bus['timestamp'].iloc[i]).seconds\n",
    "\n",
    "            if time_diff > 300:  # Reset if time difference > 5 minutes\n",
    "                data_bus.loc[data_bus.index[i], ['time_to_complete', 'time_waiting']] = 0\n",
    "                continue\n",
    "\n",
    "            if type(data_bus['stop'].iloc[i]) == str and data_bus['stop'].iloc[i] != 'NaN':\n",
    "                data_bus.loc[data_bus.index[i], 'time_waiting'] = (\n",
    "                    data_bus['time_waiting'].iloc[i+1] + time_diff\n",
    "                )\n",
    "                data_bus.loc[data_bus.index[i], 'time_to_complete'] = 0\n",
    "            else:\n",
    "                data_bus.loc[data_bus.index[i], 'time_to_complete'] = (\n",
    "                    data_bus['time_to_complete'].iloc[i+1] + time_diff\n",
    "                )\n",
    "                data_bus.loc[data_bus.index[i], 'time_waiting'] = 0\n",
    "\n",
    "            if data_bus['stop'].iloc[i] == main_stop:\n",
    "                data_bus.loc[data_bus.index[i], 'time_on_route'] = 0\n",
    "            else:\n",
    "                data_bus.loc[data_bus.index[i], 'time_on_route'] = (\n",
    "                    data_bus['time_on_route'].iloc[i+1] + time_diff\n",
    "                )\n",
    "\n",
    "        # Aggregate data for the bus\n",
    "        for i, row in data_bus.iterrows():\n",
    "            result_data.append([\n",
    "                bus_id,\n",
    "                row['timestamp'],\n",
    "                row['load'],\n",
    "                row['stop'],\n",
    "                row['time_on_route'],\n",
    "                row['time_waiting'],\n",
    "                row['time_to_complete'],\n",
    "            ])\n",
    "\n",
    "    # Combine all buses into a single DataFrame\n",
    "    result_df = pd.DataFrame(result_data, columns=result_columns)\n",
    "    result_df.to_csv(f'output/{route.replace(\" \", \"_\")}_stop.csv', index=False)\n",
    "    # Display the first few rows of the combined DataFrame\n",
    "    result_df.head()\n",
    "\n",
    "create_csv_route(route)"
   ]
  },
  {
   "cell_type": "code",
   "execution_count": null,
   "metadata": {},
   "outputs": [
    {
     "data": {
      "text/plain": [
       "'Weekend 1'"
      ]
     },
     "execution_count": 17,
     "metadata": {},
     "output_type": "execute_result"
    }
   ],
   "source": [
    "route"
   ]
  },
  {
   "cell_type": "code",
   "execution_count": 32,
   "metadata": {},
   "outputs": [],
   "source": [
    "for route in data['routeName'].unique():\n",
    "    create_csv_route(route)"
   ]
  },
  {
   "cell_type": "code",
   "execution_count": null,
   "metadata": {},
   "outputs": [],
   "source": []
  },
  {
   "cell_type": "code",
   "execution_count": null,
   "metadata": {},
   "outputs": [
    {
     "ename": "NameError",
     "evalue": "name 'result_df' is not defined",
     "output_type": "error",
     "traceback": [
      "\u001b[1;31m---------------------------------------------------------------------------\u001b[0m",
      "\u001b[1;31mNameError\u001b[0m                                 Traceback (most recent call last)",
      "Cell \u001b[1;32mIn[7], line 1\u001b[0m\n\u001b[1;32m----> 1\u001b[0m \u001b[43mresult_df\u001b[49m\u001b[38;5;241m.\u001b[39mdescribe()\n",
      "\u001b[1;31mNameError\u001b[0m: name 'result_df' is not defined"
     ]
    }
   ],
   "source": [
    "result_df.describe()"
   ]
  },
  {
   "cell_type": "code",
   "execution_count": null,
   "metadata": {},
   "outputs": [
    {
     "data": {
      "text/plain": [
       "\" for bus_id in result_df['bus_id'].unique():\\n    bus_data = result_df[result_df['bus_id'] == bus_id]\\n\\n    # Time on route plot\\n    plt.figure(figsize=(10, 5))\\n    plt.plot(bus_data['timestamp'], bus_data['time_on_route'] / 60, label=f'Bus {bus_id}')\\n    plt.xlabel('Stop')\\n    plt.ylabel('Time on Route (minutes)')\\n    plt.xticks(rotation=45)\\n    plt.title(f'Time to Complete Route for Bus {bus_id}')\\n    plt.legend()\\n    plt.show()\\n\\n    # Time waiting plot\\n    plt.figure(figsize=(10, 5))\\n    plt.plot(bus_data['timestamp'], bus_data['time_waiting'] / 60, label=f'Bus {bus_id}')\\n    plt.xlabel('Stop')\\n    plt.ylabel('Time Waiting at Stop (minutes)')\\n    plt.xticks(rotation=45)\\n    plt.title(f'Time Waiting at Stops for Bus {bus_id}')\\n    plt.legend()\\n    plt.show() \""
      ]
     },
     "execution_count": 151,
     "metadata": {},
     "output_type": "execute_result"
    }
   ],
   "source": [
    "\"\"\" for bus_id in result_df['bus_id'].unique():\n",
    "    bus_data = result_df[result_df['bus_id'] == bus_id]\n",
    "\n",
    "    # Time on route plot\n",
    "    plt.figure(figsize=(10, 5))\n",
    "    plt.plot(bus_data['timestamp'], bus_data['time_on_route'] / 60, label=f'Bus {bus_id}')\n",
    "    plt.xlabel('Stop')\n",
    "    plt.ylabel('Time on Route (minutes)')\n",
    "    plt.xticks(rotation=45)\n",
    "    plt.title(f'Time to Complete Route for Bus {bus_id}')\n",
    "    plt.legend()\n",
    "    plt.show()\n",
    "\n",
    "    # Time waiting plot\n",
    "    plt.figure(figsize=(10, 5))\n",
    "    plt.plot(bus_data['timestamp'], bus_data['time_waiting'] / 60, label=f'Bus {bus_id}')\n",
    "    plt.xlabel('Stop')\n",
    "    plt.ylabel('Time Waiting at Stop (minutes)')\n",
    "    plt.xticks(rotation=45)\n",
    "    plt.title(f'Time Waiting at Stops for Bus {bus_id}')\n",
    "    plt.legend()\n",
    "    plt.show() \"\"\""
   ]
  },
  {
   "cell_type": "code",
   "execution_count": null,
   "metadata": {},
   "outputs": [
    {
     "data": {
      "text/html": [
       "<div>\n",
       "<style scoped>\n",
       "    .dataframe tbody tr th:only-of-type {\n",
       "        vertical-align: middle;\n",
       "    }\n",
       "\n",
       "    .dataframe tbody tr th {\n",
       "        vertical-align: top;\n",
       "    }\n",
       "\n",
       "    .dataframe thead th {\n",
       "        text-align: right;\n",
       "    }\n",
       "</style>\n",
       "<table border=\"1\" class=\"dataframe\">\n",
       "  <thead>\n",
       "    <tr style=\"text-align: right;\">\n",
       "      <th></th>\n",
       "      <th>id</th>\n",
       "      <th>name</th>\n",
       "      <th>type</th>\n",
       "      <th>calculatedCourse</th>\n",
       "      <th>routeName</th>\n",
       "      <th>created</th>\n",
       "      <th>longitude</th>\n",
       "      <th>latitude</th>\n",
       "      <th>paxLoad</th>\n",
       "      <th>totalCap</th>\n",
       "      <th>more</th>\n",
       "      <th>deviceId</th>\n",
       "      <th>routeBlockId</th>\n",
       "      <th>timestamp</th>\n",
       "      <th>load</th>\n",
       "      <th>stop</th>\n",
       "    </tr>\n",
       "  </thead>\n",
       "  <tbody>\n",
       "  </tbody>\n",
       "</table>\n",
       "</div>"
      ],
      "text/plain": [
       "Empty DataFrame\n",
       "Columns: [id, name, type, calculatedCourse, routeName, created, longitude, latitude, paxLoad, totalCap, more, deviceId, routeBlockId, timestamp, load, stop]\n",
       "Index: []"
      ]
     },
     "execution_count": 152,
     "metadata": {},
     "output_type": "execute_result"
    }
   ],
   "source": [
    "data_bus = data_route[data_route['id'] == 7179]\n",
    "data_bus.tail()"
   ]
  },
  {
   "cell_type": "code",
   "execution_count": null,
   "metadata": {},
   "outputs": [
    {
     "data": {
      "text/plain": [
       "0"
      ]
     },
     "execution_count": 153,
     "metadata": {},
     "output_type": "execute_result"
    }
   ],
   "source": [
    "len(data_bus)"
   ]
  },
  {
   "cell_type": "code",
   "execution_count": null,
   "metadata": {},
   "outputs": [
    {
     "data": {
      "text/plain": [
       "array([], dtype=object)"
      ]
     },
     "execution_count": 154,
     "metadata": {},
     "output_type": "execute_result"
    }
   ],
   "source": [
    "data_bus['stop'].unique()"
   ]
  }
 ],
 "metadata": {
  "kernelspec": {
   "display_name": "Python 3",
   "language": "python",
   "name": "python3"
  },
  "language_info": {
   "codemirror_mode": {
    "name": "ipython",
    "version": 3
   },
   "file_extension": ".py",
   "mimetype": "text/x-python",
   "name": "python",
   "nbconvert_exporter": "python",
   "pygments_lexer": "ipython3",
   "version": "3.11.3"
  }
 },
 "nbformat": 4,
 "nbformat_minor": 2
}
